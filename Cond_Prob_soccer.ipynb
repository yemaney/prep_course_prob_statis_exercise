{
 "cells": [
  {
   "cell_type": "markdown",
   "metadata": {},
   "source": [
    "# Example: Soccer Game | Conditional Probability"
   ]
  },
  {
   "cell_type": "code",
   "execution_count": 1,
   "metadata": {},
   "outputs": [],
   "source": [
    "# import numpy \n",
    "import numpy as np"
   ]
  },
  {
   "cell_type": "code",
   "execution_count": 2,
   "metadata": {},
   "outputs": [],
   "source": [
    "# Now, we have to set the number of times we want to simulate this process and initialize all variables with zero.\n",
    "\n",
    "# how many times we run the simulation\n",
    "n_runs = 100000\n",
    "\n",
    "# initialize variables\n",
    "SAM = 0\n",
    "SAM_YES = 0\n",
    "SAM_NO = 0\n",
    "ALEX = 0\n",
    "ALEX_YES = 0\n",
    "ALEX_NO = 0\n",
    "YES = 0\n",
    "NO = 0"
   ]
  },
  {
   "cell_type": "code",
   "execution_count": 3,
   "metadata": {},
   "outputs": [],
   "source": [
    "# process simulation\n",
    "for _ in range(n_runs):\n",
    "    # Sam (probability of Sam being the coach)\n",
    "    if np.random.random() < 0.6: \n",
    "        SAM += 1\n",
    "\n",
    "        # YES\n",
    "        if np.random.random() < 0.5:\n",
    "            SAM_YES += 1\n",
    "            YES +=1\n",
    "\n",
    "        # NO\n",
    "        else:\n",
    "            SAM_NO += 1\n",
    "            NO += 1\n",
    "\n",
    "    #Alex (probability of Alex being the coach)\n",
    "    else:\n",
    "        ALEX += 1\n",
    "\n",
    "        # YES\n",
    "        if np.random.random() < 0.3:\n",
    "            ALEX_YES += 1\n",
    "            YES += 1\n",
    "\n",
    "        # NO\n",
    "        else:\n",
    "            ALEX_NO += 1\n",
    "            NO +=1"
   ]
  },
  {
   "cell_type": "code",
   "execution_count": 5,
   "metadata": {},
   "outputs": [
    {
     "name": "stdout",
     "output_type": "stream",
     "text": [
      "Sam = 60188\n",
      "Sam_yes = 29814\n"
     ]
    },
    {
     "data": {
      "text/plain": [
       "58269"
      ]
     },
     "execution_count": 5,
     "metadata": {},
     "output_type": "execute_result"
    }
   ],
   "source": [
    "print('Sam =', SAM)\n",
    "print('Sam_yes =', SAM_YES) \n",
    "SAM_NO \n",
    "ALEX \n",
    "ALEX_YES \n",
    "ALEX_NO \n",
    "YES \n",
    "NO "
   ]
  },
  {
   "cell_type": "code",
   "execution_count": 8,
   "metadata": {},
   "outputs": [],
   "source": [
    "# create probabilities\n",
    "P_SAM = round((SAM / n_runs * 100), 2)\n",
    "P_SAM_YES = SAM_YES / n_runs * 100\n",
    "P_SAM_NO = SAM_NO / n_runs * 100\n",
    "P_ALEX = ALEX / n_runs * 100\n",
    "P_ALEX_YES = ALEX_YES / n_runs * 100\n",
    "P_ALEX_NO = ALEX_NO / n_runs * 100\n",
    "P_YES = YES / n_runs * 100\n",
    "P_NO = NO / n_runs * 100"
   ]
  },
  {
   "cell_type": "code",
   "execution_count": 9,
   "metadata": {},
   "outputs": [
    {
     "name": "stdout",
     "output_type": "stream",
     "text": [
      "Sam is the coach: 60.19%\n",
      "Sam is the coach and you are the goalkeeper: 29.814%\n",
      "Sam is the coach and you are not the goalkeeper: 30.374000000000002%\n",
      "Alex is the coach: 39.812%\n",
      "Alex is the coach and you are the goalkeeper: 11.917%\n",
      "Alex is the coach and you are not the goalkeeper: 27.894999999999996%\n",
      "You are the goalkeeper: 41.731%\n",
      "You are not the goalkeeper: 58.269000000000005\n"
     ]
    }
   ],
   "source": [
    "print(f'Sam is the coach: {P_SAM}%')\n",
    "print(f'Sam is the coach and you are the goalkeeper: {P_SAM_YES}%')\n",
    "print(f'Sam is the coach and you are not the goalkeeper: {P_SAM_NO}%')\n",
    "print(f'Alex is the coach: {P_ALEX}%')\n",
    "print(f'Alex is the coach and you are the goalkeeper: {P_ALEX_YES}%')\n",
    "print(f'Alex is the coach and you are not the goalkeeper: {P_ALEX_NO}%')\n",
    "print(f'You are the goalkeeper: {P_YES}%')\n",
    "print(f'You are not the goalkeeper: {P_NO}')"
   ]
  },
  {
   "cell_type": "code",
   "execution_count": 10,
   "metadata": {},
   "outputs": [
    {
     "name": "stdout",
     "output_type": "stream",
     "text": [
      "0.714432915578347\n"
     ]
    }
   ],
   "source": [
    "# P(Sam | goalkeeper)\n",
    "P_SAM_GOAL = P_SAM_YES / P_YES\n",
    "print(P_SAM_GOAL)"
   ]
  },
  {
   "cell_type": "code",
   "execution_count": null,
   "metadata": {},
   "outputs": [],
   "source": []
  }
 ],
 "metadata": {
  "kernelspec": {
   "display_name": "Python 3",
   "language": "python",
   "name": "python3"
  },
  "language_info": {
   "codemirror_mode": {
    "name": "ipython",
    "version": 3
   },
   "file_extension": ".py",
   "mimetype": "text/x-python",
   "name": "python",
   "nbconvert_exporter": "python",
   "pygments_lexer": "ipython3",
   "version": "3.8.5"
  }
 },
 "nbformat": 4,
 "nbformat_minor": 4
}
